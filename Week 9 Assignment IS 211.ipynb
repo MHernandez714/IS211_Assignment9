{
 "cells": [
  {
   "cell_type": "code",
   "execution_count": null,
   "id": "51cd90fb",
   "metadata": {},
   "outputs": [],
   "source": [
    "#football_stats.py\n",
    "\n",
    "import requests \n",
    "from bs4 import BeautifulSoup\n",
    "\n",
    "url: \"https://www.cbssports.com/nfl/stats/playersort/nfl/year-2024-season-regular-category-touchdowns\"\n",
    "response = requests.get(url)\n",
    "soup = BeautifulSoup(response.text, \"html.parser\")\n",
    "\n",
    "rows = soup.select(\"table tbody tr\")[:20]\n",
    "print(\"Top 20 NFL Touchdown Leaders:\\n\")\n",
    "for rows in rows:\n",
    "    cols = [col.get_text(stripe=True) for col in row.find_all(\"td\")]\n",
    "    if len(cols) >=5:\n",
    "        player = cols[0]\n",
    "        team = cols[1]\n",
    "        position = cols[2]\n",
    "        touchdowns = cols[-1]\n",
    "        print(f\"{player} | {position}) | {team} | Touchdowns: {touchdowns}\")\n",
    "        \n",
    "        \n"
   ]
  },
  {
   "cell_type": "code",
   "execution_count": null,
   "id": "42c07314",
   "metadata": {},
   "outputs": [],
   "source": [
    "# apple_stock.py\n",
    "\n",
    "import requests \n",
    "from bs4 import BeautifulSoup\n",
    "\n",
    "url:\"https://finance.yahoo.com/qoute/AAPL/history?p=AAPL\"\n",
    "    response = requests.get(url)\n",
    "    soup = BeautifulSoup(response.text, \"html.parser\")\n",
    "    \n",
    "rows = soup.select(\"table tbody tr\")\n",
    "print(\"Apple Stock Historical Data:\\n\")\n",
    "for rows in rows:\n",
    "    cols = [col.get_text(strip=True)for col in row.find_all(\"td\")]\n",
    "    if len(cols) >= 6:\n",
    "        date = cols[0]\n",
    "        close_price = cols[4]\n",
    "        print(f\"{date} | Close Price: {close_price}\")\n",
    "            "
   ]
  }
 ],
 "metadata": {
  "kernelspec": {
   "display_name": "Python 3",
   "language": "python",
   "name": "python3"
  },
  "language_info": {
   "codemirror_mode": {
    "name": "ipython",
    "version": 3
   },
   "file_extension": ".py",
   "mimetype": "text/x-python",
   "name": "python",
   "nbconvert_exporter": "python",
   "pygments_lexer": "ipython3",
   "version": "3.8.10"
  }
 },
 "nbformat": 4,
 "nbformat_minor": 5
}
